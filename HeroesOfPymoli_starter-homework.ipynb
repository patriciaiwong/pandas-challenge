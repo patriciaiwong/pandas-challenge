{
 "cells": [
  {
   "cell_type": "markdown",
   "metadata": {},
   "source": [
    "### Note\n",
    "* Instructions have been included for each segment. You do not have to follow them exactly, but they are included to help you think through the steps."
   ]
  },
  {
   "cell_type": "code",
   "execution_count": 1,
   "metadata": {},
   "outputs": [
    {
     "data": {
      "text/html": [
       "<div>\n",
       "<style scoped>\n",
       "    .dataframe tbody tr th:only-of-type {\n",
       "        vertical-align: middle;\n",
       "    }\n",
       "\n",
       "    .dataframe tbody tr th {\n",
       "        vertical-align: top;\n",
       "    }\n",
       "\n",
       "    .dataframe thead th {\n",
       "        text-align: right;\n",
       "    }\n",
       "</style>\n",
       "<table border=\"1\" class=\"dataframe\">\n",
       "  <thead>\n",
       "    <tr style=\"text-align: right;\">\n",
       "      <th></th>\n",
       "      <th>Purchase ID</th>\n",
       "      <th>SN</th>\n",
       "      <th>Age</th>\n",
       "      <th>Gender</th>\n",
       "      <th>Item ID</th>\n",
       "      <th>Item Name</th>\n",
       "      <th>Price</th>\n",
       "    </tr>\n",
       "  </thead>\n",
       "  <tbody>\n",
       "    <tr>\n",
       "      <th>0</th>\n",
       "      <td>0</td>\n",
       "      <td>Lisim78</td>\n",
       "      <td>20</td>\n",
       "      <td>Male</td>\n",
       "      <td>108</td>\n",
       "      <td>Extraction, Quickblade Of Trembling Hands</td>\n",
       "      <td>3.53</td>\n",
       "    </tr>\n",
       "    <tr>\n",
       "      <th>1</th>\n",
       "      <td>1</td>\n",
       "      <td>Lisovynya38</td>\n",
       "      <td>40</td>\n",
       "      <td>Male</td>\n",
       "      <td>143</td>\n",
       "      <td>Frenzied Scimitar</td>\n",
       "      <td>1.56</td>\n",
       "    </tr>\n",
       "    <tr>\n",
       "      <th>2</th>\n",
       "      <td>2</td>\n",
       "      <td>Ithergue48</td>\n",
       "      <td>24</td>\n",
       "      <td>Male</td>\n",
       "      <td>92</td>\n",
       "      <td>Final Critic</td>\n",
       "      <td>4.88</td>\n",
       "    </tr>\n",
       "    <tr>\n",
       "      <th>3</th>\n",
       "      <td>3</td>\n",
       "      <td>Chamassasya86</td>\n",
       "      <td>24</td>\n",
       "      <td>Male</td>\n",
       "      <td>100</td>\n",
       "      <td>Blindscythe</td>\n",
       "      <td>3.27</td>\n",
       "    </tr>\n",
       "    <tr>\n",
       "      <th>4</th>\n",
       "      <td>4</td>\n",
       "      <td>Iskosia90</td>\n",
       "      <td>23</td>\n",
       "      <td>Male</td>\n",
       "      <td>131</td>\n",
       "      <td>Fury</td>\n",
       "      <td>1.44</td>\n",
       "    </tr>\n",
       "  </tbody>\n",
       "</table>\n",
       "</div>"
      ],
      "text/plain": [
       "   Purchase ID             SN  Age Gender  Item ID  \\\n",
       "0            0        Lisim78   20   Male      108   \n",
       "1            1    Lisovynya38   40   Male      143   \n",
       "2            2     Ithergue48   24   Male       92   \n",
       "3            3  Chamassasya86   24   Male      100   \n",
       "4            4      Iskosia90   23   Male      131   \n",
       "\n",
       "                                   Item Name  Price  \n",
       "0  Extraction, Quickblade Of Trembling Hands   3.53  \n",
       "1                          Frenzied Scimitar   1.56  \n",
       "2                               Final Critic   4.88  \n",
       "3                                Blindscythe   3.27  \n",
       "4                                       Fury   1.44  "
      ]
     },
     "execution_count": 1,
     "metadata": {},
     "output_type": "execute_result"
    }
   ],
   "source": [
    "# Dependencies and Setup\n",
    "import pandas as pd\n",
    "\n",
    "# File to Load (Remember to Change These)\n",
    "file_to_load = \"Resources/purchase_data.csv\"\n",
    "\n",
    "# Read Purchasing File and store into Pandas data frame\n",
    "purchase_data = pd.read_csv(file_to_load)\n",
    "purchase_data.head()"
   ]
  },
  {
   "cell_type": "markdown",
   "metadata": {},
   "source": [
    "## Player Count"
   ]
  },
  {
   "cell_type": "markdown",
   "metadata": {},
   "source": [
    "* Display the total number of players\n"
   ]
  },
  {
   "cell_type": "code",
   "execution_count": 2,
   "metadata": {},
   "outputs": [
    {
     "name": "stdout",
     "output_type": "stream",
     "text": [
      "Number of players: 576\n"
     ]
    }
   ],
   "source": [
    "player = purchase_data['SN'].value_counts()\n",
    "total_players = player.count()\n",
    "print(\"Number of players: \" + str(total_players))"
   ]
  },
  {
   "cell_type": "markdown",
   "metadata": {},
   "source": [
    "## Purchasing Analysis (Total)"
   ]
  },
  {
   "cell_type": "markdown",
   "metadata": {},
   "source": [
    "* Run basic calculations to obtain number of unique items, average price, etc.\n",
    "\n",
    "\n",
    "* Create a summary data frame to hold the results\n",
    "\n",
    "\n",
    "* Optional: give the displayed data cleaner formatting\n",
    "\n",
    "\n",
    "* Display the summary data frame\n"
   ]
  },
  {
   "cell_type": "code",
   "execution_count": 3,
   "metadata": {
    "scrolled": true
   },
   "outputs": [
    {
     "data": {
      "text/html": [
       "<style  type=\"text/css\" >\n",
       "</style><table id=\"T_c8400a5c_f845_11e9_afcc_b831b596e6a5\" ><thead>    <tr>        <th class=\"blank level0\" ></th>        <th class=\"col_heading level0 col0\" >Average Price</th>        <th class=\"col_heading level0 col1\" >Total Number of Purchase</th>        <th class=\"col_heading level0 col2\" >Total Revenue</th>        <th class=\"col_heading level0 col3\" >Unique Number of Items</th>    </tr></thead><tbody>\n",
       "                <tr>\n",
       "                        <th id=\"T_c8400a5c_f845_11e9_afcc_b831b596e6a5level0_row0\" class=\"row_heading level0 row0\" >0</th>\n",
       "                        <td id=\"T_c8400a5c_f845_11e9_afcc_b831b596e6a5row0_col0\" class=\"data row0 col0\" >$3.05</td>\n",
       "                        <td id=\"T_c8400a5c_f845_11e9_afcc_b831b596e6a5row0_col1\" class=\"data row0 col1\" >780</td>\n",
       "                        <td id=\"T_c8400a5c_f845_11e9_afcc_b831b596e6a5row0_col2\" class=\"data row0 col2\" >$2,379.77</td>\n",
       "                        <td id=\"T_c8400a5c_f845_11e9_afcc_b831b596e6a5row0_col3\" class=\"data row0 col3\" >183</td>\n",
       "            </tr>\n",
       "    </tbody></table>"
      ],
      "text/plain": [
       "<pandas.io.formats.style.Styler at 0x1d2a7734cc0>"
      ]
     },
     "execution_count": 3,
     "metadata": {},
     "output_type": "execute_result"
    }
   ],
   "source": [
    "average_price = purchase_data['Price'].mean()\n",
    "unique_items = purchase_data['Item ID'].value_counts()\n",
    "unique_count = unique_items.count()\n",
    "\n",
    "purchases = purchase_data['Purchase ID'].count()\n",
    "\n",
    "total_revenue = purchase_data['Price'].sum()\n",
    "\n",
    "rounded = round(average_price,2)\n",
    "\n",
    "summary = [{\"Unique Number of Items\": unique_count, \"Average Price\": rounded, \"Total Number of Purchase\": purchases, \"Total Revenue\": total_revenue}]\n",
    "\n",
    "df_summary = pd.DataFrame(summary)\n",
    "\n",
    "df_summary.style.format({'Average Price':\"${:,.2f}\",\n",
    "                        'Total Revenue': '${:,.2f}'})"
   ]
  },
  {
   "cell_type": "markdown",
   "metadata": {},
   "source": [
    "## Gender Demographics"
   ]
  },
  {
   "cell_type": "markdown",
   "metadata": {},
   "source": [
    "* Percentage and Count of Male Players\n",
    "\n",
    "\n",
    "* Percentage and Count of Female Players\n",
    "\n",
    "\n",
    "* Percentage and Count of Other / Non-Disclosed\n",
    "\n",
    "\n"
   ]
  },
  {
   "cell_type": "code",
   "execution_count": 4,
   "metadata": {},
   "outputs": [
    {
     "data": {
      "text/html": [
       "<style  type=\"text/css\" >\n",
       "</style><table id=\"T_c89f72ae_f845_11e9_9eb7_b831b596e6a5\" ><thead>    <tr>        <th class=\"blank level0\" ></th>        <th class=\"col_heading level0 col0\" >Total Count</th>        <th class=\"col_heading level0 col1\" >Percentage of Players</th>    </tr>    <tr>        <th class=\"index_name level0\" >Gender</th>        <th class=\"blank\" ></th>        <th class=\"blank\" ></th>    </tr></thead><tbody>\n",
       "                <tr>\n",
       "                        <th id=\"T_c89f72ae_f845_11e9_9eb7_b831b596e6a5level0_row0\" class=\"row_heading level0 row0\" >Female</th>\n",
       "                        <td id=\"T_c89f72ae_f845_11e9_9eb7_b831b596e6a5row0_col0\" class=\"data row0 col0\" >81</td>\n",
       "                        <td id=\"T_c89f72ae_f845_11e9_9eb7_b831b596e6a5row0_col1\" class=\"data row0 col1\" >14.06%</td>\n",
       "            </tr>\n",
       "            <tr>\n",
       "                        <th id=\"T_c89f72ae_f845_11e9_9eb7_b831b596e6a5level0_row1\" class=\"row_heading level0 row1\" >Male</th>\n",
       "                        <td id=\"T_c89f72ae_f845_11e9_9eb7_b831b596e6a5row1_col0\" class=\"data row1 col0\" >484</td>\n",
       "                        <td id=\"T_c89f72ae_f845_11e9_9eb7_b831b596e6a5row1_col1\" class=\"data row1 col1\" >84.03%</td>\n",
       "            </tr>\n",
       "            <tr>\n",
       "                        <th id=\"T_c89f72ae_f845_11e9_9eb7_b831b596e6a5level0_row2\" class=\"row_heading level0 row2\" >Other / Non-Disclosed</th>\n",
       "                        <td id=\"T_c89f72ae_f845_11e9_9eb7_b831b596e6a5row2_col0\" class=\"data row2 col0\" >11</td>\n",
       "                        <td id=\"T_c89f72ae_f845_11e9_9eb7_b831b596e6a5row2_col1\" class=\"data row2 col1\" >1.91%</td>\n",
       "            </tr>\n",
       "    </tbody></table>"
      ],
      "text/plain": [
       "<pandas.io.formats.style.Styler at 0x1d2a7734b00>"
      ]
     },
     "execution_count": 4,
     "metadata": {},
     "output_type": "execute_result"
    }
   ],
   "source": [
    "gender_group = purchase_data.groupby(\"Gender\")\n",
    "total_gendercount = gender_group.nunique()[\"SN\"]\n",
    "percentage_players = round(total_gendercount / total_players * 100, 2)\n",
    "df_gender = pd.DataFrame({\"Total Count\": total_gendercount, \"Percentage of Players\": percentage_players})\n",
    "\n",
    "\n",
    "df_gender.style.format({\"Percentage of Players\": \"{:,.2f}%\"})"
   ]
  },
  {
   "cell_type": "markdown",
   "metadata": {},
   "source": [
    "\n",
    "## Purchasing Analysis (Gender)"
   ]
  },
  {
   "cell_type": "markdown",
   "metadata": {},
   "source": [
    "* Run basic calculations to obtain purchase count, avg. purchase price, avg. purchase total per person etc. by gender\n",
    "\n",
    "\n",
    "\n",
    "\n",
    "* Create a summary data frame to hold the results\n",
    "\n",
    "\n",
    "* Optional: give the displayed data cleaner formatting\n",
    "\n",
    "\n",
    "* Display the summary data frame"
   ]
  },
  {
   "cell_type": "code",
   "execution_count": 5,
   "metadata": {},
   "outputs": [
    {
     "data": {
      "text/html": [
       "<style  type=\"text/css\" >\n",
       "</style><table id=\"T_ca41907a_f845_11e9_8248_b831b596e6a5\" ><thead>    <tr>        <th class=\"blank level0\" ></th>        <th class=\"col_heading level0 col0\" >Total Count</th>        <th class=\"col_heading level0 col1\" >Average Purchase Price</th>        <th class=\"col_heading level0 col2\" >Total Purchase Price</th>        <th class=\"col_heading level0 col3\" >Av Price Per Person</th>    </tr>    <tr>        <th class=\"index_name level0\" >Gender</th>        <th class=\"blank\" ></th>        <th class=\"blank\" ></th>        <th class=\"blank\" ></th>        <th class=\"blank\" ></th>    </tr></thead><tbody>\n",
       "                <tr>\n",
       "                        <th id=\"T_ca41907a_f845_11e9_8248_b831b596e6a5level0_row0\" class=\"row_heading level0 row0\" >Female</th>\n",
       "                        <td id=\"T_ca41907a_f845_11e9_8248_b831b596e6a5row0_col0\" class=\"data row0 col0\" >113</td>\n",
       "                        <td id=\"T_ca41907a_f845_11e9_8248_b831b596e6a5row0_col1\" class=\"data row0 col1\" >$3.20</td>\n",
       "                        <td id=\"T_ca41907a_f845_11e9_8248_b831b596e6a5row0_col2\" class=\"data row0 col2\" >$361.94</td>\n",
       "                        <td id=\"T_ca41907a_f845_11e9_8248_b831b596e6a5row0_col3\" class=\"data row0 col3\" >$4.47</td>\n",
       "            </tr>\n",
       "            <tr>\n",
       "                        <th id=\"T_ca41907a_f845_11e9_8248_b831b596e6a5level0_row1\" class=\"row_heading level0 row1\" >Male</th>\n",
       "                        <td id=\"T_ca41907a_f845_11e9_8248_b831b596e6a5row1_col0\" class=\"data row1 col0\" >652</td>\n",
       "                        <td id=\"T_ca41907a_f845_11e9_8248_b831b596e6a5row1_col1\" class=\"data row1 col1\" >$3.02</td>\n",
       "                        <td id=\"T_ca41907a_f845_11e9_8248_b831b596e6a5row1_col2\" class=\"data row1 col2\" >$1,967.64</td>\n",
       "                        <td id=\"T_ca41907a_f845_11e9_8248_b831b596e6a5row1_col3\" class=\"data row1 col3\" >$4.07</td>\n",
       "            </tr>\n",
       "            <tr>\n",
       "                        <th id=\"T_ca41907a_f845_11e9_8248_b831b596e6a5level0_row2\" class=\"row_heading level0 row2\" >Other / Non-Disclosed</th>\n",
       "                        <td id=\"T_ca41907a_f845_11e9_8248_b831b596e6a5row2_col0\" class=\"data row2 col0\" >15</td>\n",
       "                        <td id=\"T_ca41907a_f845_11e9_8248_b831b596e6a5row2_col1\" class=\"data row2 col1\" >$3.35</td>\n",
       "                        <td id=\"T_ca41907a_f845_11e9_8248_b831b596e6a5row2_col2\" class=\"data row2 col2\" >$50.19</td>\n",
       "                        <td id=\"T_ca41907a_f845_11e9_8248_b831b596e6a5row2_col3\" class=\"data row2 col3\" >$4.56</td>\n",
       "            </tr>\n",
       "    </tbody></table>"
      ],
      "text/plain": [
       "<pandas.io.formats.style.Styler at 0x1d2a77137f0>"
      ]
     },
     "execution_count": 5,
     "metadata": {},
     "output_type": "execute_result"
    }
   ],
   "source": [
    "total_purchases = gender_group['Purchase ID'].count()\n",
    "purchase_price_average = round(gender_group['Price'].mean(),2)\n",
    "purchase_price_total = gender_group['Price'].sum()\n",
    "average_price_pp = round(purchase_price_total / total_gendercount, 2)\n",
    "\n",
    "\n",
    "pg_summary_table = pd.DataFrame({\"Total Count\": total_purchases,\n",
    "                                   \"Average Purchase Price\": purchase_price_average, \n",
    "                                 \"Total Purchase Price\": purchase_price_total,\n",
    "                                 \"Av Price Per Person\": average_price_pp})\n",
    "pg_summary_table.head().style.format({'Average Purchase Price':\"${:,.2f}\",\n",
    "                        'Total Purchase Price': '${:,.2f}', 'Av Price Per Person': '${:,.2f}'})"
   ]
  },
  {
   "cell_type": "markdown",
   "metadata": {},
   "source": [
    "## Age Demographics"
   ]
  },
  {
   "cell_type": "markdown",
   "metadata": {},
   "source": [
    "* Establish bins for ages\n",
    "\n",
    "\n",
    "* Categorize the existing players using the age bins. Hint: use pd.cut()\n",
    "\n",
    "\n",
    "* Calculate the numbers and percentages by age group\n",
    "\n",
    "\n",
    "* Create a summary data frame to hold the results\n",
    "\n",
    "\n",
    "* Optional: round the percentage column to two decimal points\n",
    "\n",
    "\n",
    "* Display Age Demographics Table\n"
   ]
  },
  {
   "cell_type": "code",
   "execution_count": 6,
   "metadata": {},
   "outputs": [
    {
     "data": {
      "text/html": [
       "<style  type=\"text/css\" >\n",
       "</style><table id=\"T_cc37248a_f845_11e9_8fd8_b831b596e6a5\" ><thead>    <tr>        <th class=\"blank level0\" ></th>        <th class=\"col_heading level0 col0\" >Total Count</th>        <th class=\"col_heading level0 col1\" >Percentage</th>    </tr>    <tr>        <th class=\"index_name level0\" >Age Demo Summary</th>        <th class=\"blank\" ></th>        <th class=\"blank\" ></th>    </tr></thead><tbody>\n",
       "                <tr>\n",
       "                        <th id=\"T_cc37248a_f845_11e9_8fd8_b831b596e6a5level0_row0\" class=\"row_heading level0 row0\" ><10</th>\n",
       "                        <td id=\"T_cc37248a_f845_11e9_8fd8_b831b596e6a5row0_col0\" class=\"data row0 col0\" >17</td>\n",
       "                        <td id=\"T_cc37248a_f845_11e9_8fd8_b831b596e6a5row0_col1\" class=\"data row0 col1\" >$2.95</td>\n",
       "            </tr>\n",
       "            <tr>\n",
       "                        <th id=\"T_cc37248a_f845_11e9_8fd8_b831b596e6a5level0_row1\" class=\"row_heading level0 row1\" >10-14</th>\n",
       "                        <td id=\"T_cc37248a_f845_11e9_8fd8_b831b596e6a5row1_col0\" class=\"data row1 col0\" >22</td>\n",
       "                        <td id=\"T_cc37248a_f845_11e9_8fd8_b831b596e6a5row1_col1\" class=\"data row1 col1\" >$3.82</td>\n",
       "            </tr>\n",
       "            <tr>\n",
       "                        <th id=\"T_cc37248a_f845_11e9_8fd8_b831b596e6a5level0_row2\" class=\"row_heading level0 row2\" >15-19</th>\n",
       "                        <td id=\"T_cc37248a_f845_11e9_8fd8_b831b596e6a5row2_col0\" class=\"data row2 col0\" >107</td>\n",
       "                        <td id=\"T_cc37248a_f845_11e9_8fd8_b831b596e6a5row2_col1\" class=\"data row2 col1\" >$18.58</td>\n",
       "            </tr>\n",
       "            <tr>\n",
       "                        <th id=\"T_cc37248a_f845_11e9_8fd8_b831b596e6a5level0_row3\" class=\"row_heading level0 row3\" >20-24</th>\n",
       "                        <td id=\"T_cc37248a_f845_11e9_8fd8_b831b596e6a5row3_col0\" class=\"data row3 col0\" >258</td>\n",
       "                        <td id=\"T_cc37248a_f845_11e9_8fd8_b831b596e6a5row3_col1\" class=\"data row3 col1\" >$44.79</td>\n",
       "            </tr>\n",
       "            <tr>\n",
       "                        <th id=\"T_cc37248a_f845_11e9_8fd8_b831b596e6a5level0_row4\" class=\"row_heading level0 row4\" >25-29</th>\n",
       "                        <td id=\"T_cc37248a_f845_11e9_8fd8_b831b596e6a5row4_col0\" class=\"data row4 col0\" >77</td>\n",
       "                        <td id=\"T_cc37248a_f845_11e9_8fd8_b831b596e6a5row4_col1\" class=\"data row4 col1\" >$13.37</td>\n",
       "            </tr>\n",
       "            <tr>\n",
       "                        <th id=\"T_cc37248a_f845_11e9_8fd8_b831b596e6a5level0_row5\" class=\"row_heading level0 row5\" >30-34</th>\n",
       "                        <td id=\"T_cc37248a_f845_11e9_8fd8_b831b596e6a5row5_col0\" class=\"data row5 col0\" >52</td>\n",
       "                        <td id=\"T_cc37248a_f845_11e9_8fd8_b831b596e6a5row5_col1\" class=\"data row5 col1\" >$9.03</td>\n",
       "            </tr>\n",
       "            <tr>\n",
       "                        <th id=\"T_cc37248a_f845_11e9_8fd8_b831b596e6a5level0_row6\" class=\"row_heading level0 row6\" >35-39</th>\n",
       "                        <td id=\"T_cc37248a_f845_11e9_8fd8_b831b596e6a5row6_col0\" class=\"data row6 col0\" >31</td>\n",
       "                        <td id=\"T_cc37248a_f845_11e9_8fd8_b831b596e6a5row6_col1\" class=\"data row6 col1\" >$5.38</td>\n",
       "            </tr>\n",
       "            <tr>\n",
       "                        <th id=\"T_cc37248a_f845_11e9_8fd8_b831b596e6a5level0_row7\" class=\"row_heading level0 row7\" >40+</th>\n",
       "                        <td id=\"T_cc37248a_f845_11e9_8fd8_b831b596e6a5row7_col0\" class=\"data row7 col0\" >12</td>\n",
       "                        <td id=\"T_cc37248a_f845_11e9_8fd8_b831b596e6a5row7_col1\" class=\"data row7 col1\" >$2.08</td>\n",
       "            </tr>\n",
       "    </tbody></table>"
      ],
      "text/plain": [
       "<pandas.io.formats.style.Styler at 0x1d2a8449ef0>"
      ]
     },
     "execution_count": 6,
     "metadata": {},
     "output_type": "execute_result"
    }
   ],
   "source": [
    "bins = [0, 9, 14, 19, 24, 29, 34, 39, 100]\n",
    "binnames = ['<10', '10-14', '15-19','20-24', '25-29', '30-34','35-39', '40+']\n",
    "\n",
    "purchase_data[\"Age Demo Summary\"] = pd.cut(purchase_data[\"Age\"], bins, labels=binnames)\n",
    "\n",
    "\n",
    "\n",
    "grouped_age = purchase_data.groupby(\"Age Demo Summary\")\n",
    "\n",
    "age_count = grouped_age['SN'].nunique()\n",
    "age_percent = round(age_count / total_players * 100, 2)\n",
    "\n",
    "ag_summary_table = pd.DataFrame({\"Total Count\": age_count,\"Percentage\": age_percent})\n",
    "ag_summary_table.head(10).style.format({'Percentage':\"${:,.2f}\"})"
   ]
  },
  {
   "cell_type": "markdown",
   "metadata": {},
   "source": [
    "## Purchasing Analysis (Age)"
   ]
  },
  {
   "cell_type": "markdown",
   "metadata": {},
   "source": [
    "* Bin the purchase_data data frame by age\n",
    "\n",
    "\n",
    "* Run basic calculations to obtain purchase count, avg. purchase price, avg. purchase total per person etc. in the table below\n",
    "\n",
    "\n",
    "* Create a summary data frame to hold the results\n",
    "\n",
    "\n",
    "* Optional: give the displayed data cleaner formatting\n",
    "\n",
    "\n",
    "* Display the summary data frame"
   ]
  },
  {
   "cell_type": "code",
   "execution_count": 7,
   "metadata": {},
   "outputs": [
    {
     "data": {
      "text/html": [
       "<style  type=\"text/css\" >\n",
       "</style><table id=\"T_ce2d6e46_f845_11e9_b234_b831b596e6a5\" ><thead>    <tr>        <th class=\"blank level0\" ></th>        <th class=\"col_heading level0 col0\" >Total Count</th>        <th class=\"col_heading level0 col1\" >Average Purchase Price</th>        <th class=\"col_heading level0 col2\" >Total Purchase Price</th>        <th class=\"col_heading level0 col3\" >Av Price Per Person</th>    </tr>    <tr>        <th class=\"index_name level0\" >Age Demo Summary</th>        <th class=\"blank\" ></th>        <th class=\"blank\" ></th>        <th class=\"blank\" ></th>        <th class=\"blank\" ></th>    </tr></thead><tbody>\n",
       "                <tr>\n",
       "                        <th id=\"T_ce2d6e46_f845_11e9_b234_b831b596e6a5level0_row0\" class=\"row_heading level0 row0\" ><10</th>\n",
       "                        <td id=\"T_ce2d6e46_f845_11e9_b234_b831b596e6a5row0_col0\" class=\"data row0 col0\" >23</td>\n",
       "                        <td id=\"T_ce2d6e46_f845_11e9_b234_b831b596e6a5row0_col1\" class=\"data row0 col1\" >$3.35</td>\n",
       "                        <td id=\"T_ce2d6e46_f845_11e9_b234_b831b596e6a5row0_col2\" class=\"data row0 col2\" >$77.13</td>\n",
       "                        <td id=\"T_ce2d6e46_f845_11e9_b234_b831b596e6a5row0_col3\" class=\"data row0 col3\" >$4.54</td>\n",
       "            </tr>\n",
       "            <tr>\n",
       "                        <th id=\"T_ce2d6e46_f845_11e9_b234_b831b596e6a5level0_row1\" class=\"row_heading level0 row1\" >10-14</th>\n",
       "                        <td id=\"T_ce2d6e46_f845_11e9_b234_b831b596e6a5row1_col0\" class=\"data row1 col0\" >28</td>\n",
       "                        <td id=\"T_ce2d6e46_f845_11e9_b234_b831b596e6a5row1_col1\" class=\"data row1 col1\" >$2.96</td>\n",
       "                        <td id=\"T_ce2d6e46_f845_11e9_b234_b831b596e6a5row1_col2\" class=\"data row1 col2\" >$82.78</td>\n",
       "                        <td id=\"T_ce2d6e46_f845_11e9_b234_b831b596e6a5row1_col3\" class=\"data row1 col3\" >$3.76</td>\n",
       "            </tr>\n",
       "            <tr>\n",
       "                        <th id=\"T_ce2d6e46_f845_11e9_b234_b831b596e6a5level0_row2\" class=\"row_heading level0 row2\" >15-19</th>\n",
       "                        <td id=\"T_ce2d6e46_f845_11e9_b234_b831b596e6a5row2_col0\" class=\"data row2 col0\" >136</td>\n",
       "                        <td id=\"T_ce2d6e46_f845_11e9_b234_b831b596e6a5row2_col1\" class=\"data row2 col1\" >$3.04</td>\n",
       "                        <td id=\"T_ce2d6e46_f845_11e9_b234_b831b596e6a5row2_col2\" class=\"data row2 col2\" >$412.89</td>\n",
       "                        <td id=\"T_ce2d6e46_f845_11e9_b234_b831b596e6a5row2_col3\" class=\"data row2 col3\" >$3.86</td>\n",
       "            </tr>\n",
       "            <tr>\n",
       "                        <th id=\"T_ce2d6e46_f845_11e9_b234_b831b596e6a5level0_row3\" class=\"row_heading level0 row3\" >20-24</th>\n",
       "                        <td id=\"T_ce2d6e46_f845_11e9_b234_b831b596e6a5row3_col0\" class=\"data row3 col0\" >365</td>\n",
       "                        <td id=\"T_ce2d6e46_f845_11e9_b234_b831b596e6a5row3_col1\" class=\"data row3 col1\" >$3.05</td>\n",
       "                        <td id=\"T_ce2d6e46_f845_11e9_b234_b831b596e6a5row3_col2\" class=\"data row3 col2\" >$1,114.06</td>\n",
       "                        <td id=\"T_ce2d6e46_f845_11e9_b234_b831b596e6a5row3_col3\" class=\"data row3 col3\" >$4.32</td>\n",
       "            </tr>\n",
       "            <tr>\n",
       "                        <th id=\"T_ce2d6e46_f845_11e9_b234_b831b596e6a5level0_row4\" class=\"row_heading level0 row4\" >25-29</th>\n",
       "                        <td id=\"T_ce2d6e46_f845_11e9_b234_b831b596e6a5row4_col0\" class=\"data row4 col0\" >101</td>\n",
       "                        <td id=\"T_ce2d6e46_f845_11e9_b234_b831b596e6a5row4_col1\" class=\"data row4 col1\" >$2.90</td>\n",
       "                        <td id=\"T_ce2d6e46_f845_11e9_b234_b831b596e6a5row4_col2\" class=\"data row4 col2\" >$293.00</td>\n",
       "                        <td id=\"T_ce2d6e46_f845_11e9_b234_b831b596e6a5row4_col3\" class=\"data row4 col3\" >$3.81</td>\n",
       "            </tr>\n",
       "            <tr>\n",
       "                        <th id=\"T_ce2d6e46_f845_11e9_b234_b831b596e6a5level0_row5\" class=\"row_heading level0 row5\" >30-34</th>\n",
       "                        <td id=\"T_ce2d6e46_f845_11e9_b234_b831b596e6a5row5_col0\" class=\"data row5 col0\" >73</td>\n",
       "                        <td id=\"T_ce2d6e46_f845_11e9_b234_b831b596e6a5row5_col1\" class=\"data row5 col1\" >$2.93</td>\n",
       "                        <td id=\"T_ce2d6e46_f845_11e9_b234_b831b596e6a5row5_col2\" class=\"data row5 col2\" >$214.00</td>\n",
       "                        <td id=\"T_ce2d6e46_f845_11e9_b234_b831b596e6a5row5_col3\" class=\"data row5 col3\" >$4.12</td>\n",
       "            </tr>\n",
       "            <tr>\n",
       "                        <th id=\"T_ce2d6e46_f845_11e9_b234_b831b596e6a5level0_row6\" class=\"row_heading level0 row6\" >35-39</th>\n",
       "                        <td id=\"T_ce2d6e46_f845_11e9_b234_b831b596e6a5row6_col0\" class=\"data row6 col0\" >41</td>\n",
       "                        <td id=\"T_ce2d6e46_f845_11e9_b234_b831b596e6a5row6_col1\" class=\"data row6 col1\" >$3.60</td>\n",
       "                        <td id=\"T_ce2d6e46_f845_11e9_b234_b831b596e6a5row6_col2\" class=\"data row6 col2\" >$147.67</td>\n",
       "                        <td id=\"T_ce2d6e46_f845_11e9_b234_b831b596e6a5row6_col3\" class=\"data row6 col3\" >$4.76</td>\n",
       "            </tr>\n",
       "            <tr>\n",
       "                        <th id=\"T_ce2d6e46_f845_11e9_b234_b831b596e6a5level0_row7\" class=\"row_heading level0 row7\" >40+</th>\n",
       "                        <td id=\"T_ce2d6e46_f845_11e9_b234_b831b596e6a5row7_col0\" class=\"data row7 col0\" >13</td>\n",
       "                        <td id=\"T_ce2d6e46_f845_11e9_b234_b831b596e6a5row7_col1\" class=\"data row7 col1\" >$2.94</td>\n",
       "                        <td id=\"T_ce2d6e46_f845_11e9_b234_b831b596e6a5row7_col2\" class=\"data row7 col2\" >$38.24</td>\n",
       "                        <td id=\"T_ce2d6e46_f845_11e9_b234_b831b596e6a5row7_col3\" class=\"data row7 col3\" >$3.19</td>\n",
       "            </tr>\n",
       "    </tbody></table>"
      ],
      "text/plain": [
       "<pandas.io.formats.style.Styler at 0x1d2a7713828>"
      ]
     },
     "execution_count": 7,
     "metadata": {},
     "output_type": "execute_result"
    }
   ],
   "source": [
    "total_purchasesgroup = grouped_age[\"Purchase ID\"].count()\n",
    "purchase_price_av_age = round(grouped_age[\"Price\"].mean(),2)\n",
    "purchase_age_total = grouped_age[\"Price\"].sum()\n",
    "average_age_pp = round(purchase_age_total / age_count,2)\n",
    "\n",
    "\n",
    "age_summary_table = pd.DataFrame({\"Total Count\": total_purchasesgroup,\n",
    "                                   \"Average Purchase Price\": purchase_price_av_age, \n",
    "                                  \"Total Purchase Price\": purchase_age_total,\n",
    "                                  \"Av Price Per Person\":average_age_pp})\n",
    "age_summary_table.head(10).style.format({\"Average Purchase Price\":\"${:,.2f}\",\n",
    "                        \"Total Purchase Price\": '${:,.2f}', \"Av Price Per Person\": '${:,.2f}'})"
   ]
  },
  {
   "cell_type": "markdown",
   "metadata": {},
   "source": [
    "## Top Spenders"
   ]
  },
  {
   "cell_type": "markdown",
   "metadata": {},
   "source": [
    "* Run basic calculations to obtain the results in the table below\n",
    "\n",
    "\n",
    "* Create a summary data frame to hold the results\n",
    "\n",
    "\n",
    "* Sort the total purchase value column in descending order\n",
    "\n",
    "\n",
    "* Optional: give the displayed data cleaner formatting\n",
    "\n",
    "\n",
    "* Display a preview of the summary data frame\n",
    "\n"
   ]
  },
  {
   "cell_type": "code",
   "execution_count": 8,
   "metadata": {},
   "outputs": [
    {
     "data": {
      "text/html": [
       "<style  type=\"text/css\" >\n",
       "</style><table id=\"T_d1deed12_f845_11e9_8158_b831b596e6a5\" ><thead>    <tr>        <th class=\"blank level0\" ></th>        <th class=\"col_heading level0 col0\" >Total Count</th>        <th class=\"col_heading level0 col1\" >Average Purchase Price</th>        <th class=\"col_heading level0 col2\" >Total Purchase Value</th>    </tr></thead><tbody>\n",
       "                <tr>\n",
       "                        <th id=\"T_d1deed12_f845_11e9_8158_b831b596e6a5level0_row0\" class=\"row_heading level0 row0\" >Lisosia93</th>\n",
       "                        <td id=\"T_d1deed12_f845_11e9_8158_b831b596e6a5row0_col0\" class=\"data row0 col0\" >5</td>\n",
       "                        <td id=\"T_d1deed12_f845_11e9_8158_b831b596e6a5row0_col1\" class=\"data row0 col1\" >$3.79</td>\n",
       "                        <td id=\"T_d1deed12_f845_11e9_8158_b831b596e6a5row0_col2\" class=\"data row0 col2\" >$18.96</td>\n",
       "            </tr>\n",
       "            <tr>\n",
       "                        <th id=\"T_d1deed12_f845_11e9_8158_b831b596e6a5level0_row1\" class=\"row_heading level0 row1\" >Idastidru52</th>\n",
       "                        <td id=\"T_d1deed12_f845_11e9_8158_b831b596e6a5row1_col0\" class=\"data row1 col0\" >4</td>\n",
       "                        <td id=\"T_d1deed12_f845_11e9_8158_b831b596e6a5row1_col1\" class=\"data row1 col1\" >$3.86</td>\n",
       "                        <td id=\"T_d1deed12_f845_11e9_8158_b831b596e6a5row1_col2\" class=\"data row1 col2\" >$15.45</td>\n",
       "            </tr>\n",
       "            <tr>\n",
       "                        <th id=\"T_d1deed12_f845_11e9_8158_b831b596e6a5level0_row2\" class=\"row_heading level0 row2\" >Chamjask73</th>\n",
       "                        <td id=\"T_d1deed12_f845_11e9_8158_b831b596e6a5row2_col0\" class=\"data row2 col0\" >3</td>\n",
       "                        <td id=\"T_d1deed12_f845_11e9_8158_b831b596e6a5row2_col1\" class=\"data row2 col1\" >$4.61</td>\n",
       "                        <td id=\"T_d1deed12_f845_11e9_8158_b831b596e6a5row2_col2\" class=\"data row2 col2\" >$13.83</td>\n",
       "            </tr>\n",
       "            <tr>\n",
       "                        <th id=\"T_d1deed12_f845_11e9_8158_b831b596e6a5level0_row3\" class=\"row_heading level0 row3\" >Iral74</th>\n",
       "                        <td id=\"T_d1deed12_f845_11e9_8158_b831b596e6a5row3_col0\" class=\"data row3 col0\" >4</td>\n",
       "                        <td id=\"T_d1deed12_f845_11e9_8158_b831b596e6a5row3_col1\" class=\"data row3 col1\" >$3.40</td>\n",
       "                        <td id=\"T_d1deed12_f845_11e9_8158_b831b596e6a5row3_col2\" class=\"data row3 col2\" >$13.62</td>\n",
       "            </tr>\n",
       "            <tr>\n",
       "                        <th id=\"T_d1deed12_f845_11e9_8158_b831b596e6a5level0_row4\" class=\"row_heading level0 row4\" >Iskadarya95</th>\n",
       "                        <td id=\"T_d1deed12_f845_11e9_8158_b831b596e6a5row4_col0\" class=\"data row4 col0\" >3</td>\n",
       "                        <td id=\"T_d1deed12_f845_11e9_8158_b831b596e6a5row4_col1\" class=\"data row4 col1\" >$4.37</td>\n",
       "                        <td id=\"T_d1deed12_f845_11e9_8158_b831b596e6a5row4_col2\" class=\"data row4 col2\" >$13.10</td>\n",
       "            </tr>\n",
       "    </tbody></table>"
      ],
      "text/plain": [
       "<pandas.io.formats.style.Styler at 0x1d2a8458048>"
      ]
     },
     "execution_count": 8,
     "metadata": {},
     "output_type": "execute_result"
    }
   ],
   "source": [
    "spender_counts = purchase_data[\"SN\"].value_counts()\n",
    "\n",
    "grouped_spenders = purchase_data.groupby(\"SN\")\n",
    "\n",
    "\n",
    "purchase_SN_total = grouped_spenders[\"Price\"].sum()\n",
    "purchase_SN_av = round(grouped_spenders[\"Price\"].mean(), 2)\n",
    "\n",
    "\n",
    "spenders_df = pd.DataFrame({\"Total Count\": spender_counts,\"Average Purchase Price\":purchase_SN_av,\n",
    "                                       \"Total Purchase Value\":\n",
    "                                  purchase_SN_total})\n",
    "spend_df = spenders_df.sort_values(\"Total Purchase Value\", ascending=False)\n",
    "\n",
    "\n",
    "spend_df.head(5).style.format({\"Average Purchase Price\":\"${:,.2f}\",\n",
    "                        \"Total Purchase Value\": '${:,.2f}'})\n"
   ]
  },
  {
   "cell_type": "markdown",
   "metadata": {},
   "source": [
    "## Most Popular Items"
   ]
  },
  {
   "cell_type": "markdown",
   "metadata": {},
   "source": [
    "* Retrieve the Item ID, Item Name, and Item Price columns\n",
    "\n",
    "\n",
    "* Group by Item ID and Item Name. Perform calculations to obtain purchase count, item price, and total purchase value\n",
    "\n",
    "\n",
    "* Create a summary data frame to hold the results\n",
    "\n",
    "\n",
    "* Sort the purchase count column in descending order\n",
    "\n",
    "\n",
    "* Optional: give the displayed data cleaner formatting\n",
    "\n",
    "\n",
    "* Display a preview of the summary data frame\n",
    "\n"
   ]
  },
  {
   "cell_type": "code",
   "execution_count": 9,
   "metadata": {},
   "outputs": [
    {
     "data": {
      "text/html": [
       "<style  type=\"text/css\" >\n",
       "</style><table id=\"T_d58b8e8c_f845_11e9_b884_b831b596e6a5\" ><thead>    <tr>        <th class=\"blank\" ></th>        <th class=\"blank level0\" ></th>        <th class=\"col_heading level0 col0\" >Purchase Count</th>        <th class=\"col_heading level0 col1\" >Price</th>        <th class=\"col_heading level0 col2\" >Total Purchase Value</th>    </tr>    <tr>        <th class=\"index_name level0\" >Item ID</th>        <th class=\"index_name level1\" >Item Name</th>        <th class=\"blank\" ></th>        <th class=\"blank\" ></th>        <th class=\"blank\" ></th>    </tr></thead><tbody>\n",
       "                <tr>\n",
       "                        <th id=\"T_d58b8e8c_f845_11e9_b884_b831b596e6a5level0_row0\" class=\"row_heading level0 row0\" >178</th>\n",
       "                        <th id=\"T_d58b8e8c_f845_11e9_b884_b831b596e6a5level1_row0\" class=\"row_heading level1 row0\" >Oathbreaker, Last Hope of the Breaking Storm</th>\n",
       "                        <td id=\"T_d58b8e8c_f845_11e9_b884_b831b596e6a5row0_col0\" class=\"data row0 col0\" >12</td>\n",
       "                        <td id=\"T_d58b8e8c_f845_11e9_b884_b831b596e6a5row0_col1\" class=\"data row0 col1\" >$4.23</td>\n",
       "                        <td id=\"T_d58b8e8c_f845_11e9_b884_b831b596e6a5row0_col2\" class=\"data row0 col2\" >$50.76</td>\n",
       "            </tr>\n",
       "            <tr>\n",
       "                        <th id=\"T_d58b8e8c_f845_11e9_b884_b831b596e6a5level0_row1\" class=\"row_heading level0 row1\" >145</th>\n",
       "                        <th id=\"T_d58b8e8c_f845_11e9_b884_b831b596e6a5level1_row1\" class=\"row_heading level1 row1\" >Fiery Glass Crusader</th>\n",
       "                        <td id=\"T_d58b8e8c_f845_11e9_b884_b831b596e6a5row1_col0\" class=\"data row1 col0\" >9</td>\n",
       "                        <td id=\"T_d58b8e8c_f845_11e9_b884_b831b596e6a5row1_col1\" class=\"data row1 col1\" >$4.58</td>\n",
       "                        <td id=\"T_d58b8e8c_f845_11e9_b884_b831b596e6a5row1_col2\" class=\"data row1 col2\" >$41.22</td>\n",
       "            </tr>\n",
       "            <tr>\n",
       "                        <th id=\"T_d58b8e8c_f845_11e9_b884_b831b596e6a5level0_row2\" class=\"row_heading level0 row2\" >108</th>\n",
       "                        <th id=\"T_d58b8e8c_f845_11e9_b884_b831b596e6a5level1_row2\" class=\"row_heading level1 row2\" >Extraction, Quickblade Of Trembling Hands</th>\n",
       "                        <td id=\"T_d58b8e8c_f845_11e9_b884_b831b596e6a5row2_col0\" class=\"data row2 col0\" >9</td>\n",
       "                        <td id=\"T_d58b8e8c_f845_11e9_b884_b831b596e6a5row2_col1\" class=\"data row2 col1\" >$3.53</td>\n",
       "                        <td id=\"T_d58b8e8c_f845_11e9_b884_b831b596e6a5row2_col2\" class=\"data row2 col2\" >$31.77</td>\n",
       "            </tr>\n",
       "            <tr>\n",
       "                        <th id=\"T_d58b8e8c_f845_11e9_b884_b831b596e6a5level0_row3\" class=\"row_heading level0 row3\" >82</th>\n",
       "                        <th id=\"T_d58b8e8c_f845_11e9_b884_b831b596e6a5level1_row3\" class=\"row_heading level1 row3\" >Nirvana</th>\n",
       "                        <td id=\"T_d58b8e8c_f845_11e9_b884_b831b596e6a5row3_col0\" class=\"data row3 col0\" >9</td>\n",
       "                        <td id=\"T_d58b8e8c_f845_11e9_b884_b831b596e6a5row3_col1\" class=\"data row3 col1\" >$4.90</td>\n",
       "                        <td id=\"T_d58b8e8c_f845_11e9_b884_b831b596e6a5row3_col2\" class=\"data row3 col2\" >$44.10</td>\n",
       "            </tr>\n",
       "            <tr>\n",
       "                        <th id=\"T_d58b8e8c_f845_11e9_b884_b831b596e6a5level0_row4\" class=\"row_heading level0 row4\" >19</th>\n",
       "                        <th id=\"T_d58b8e8c_f845_11e9_b884_b831b596e6a5level1_row4\" class=\"row_heading level1 row4\" >Pursuit, Cudgel of Necromancy</th>\n",
       "                        <td id=\"T_d58b8e8c_f845_11e9_b884_b831b596e6a5row4_col0\" class=\"data row4 col0\" >8</td>\n",
       "                        <td id=\"T_d58b8e8c_f845_11e9_b884_b831b596e6a5row4_col1\" class=\"data row4 col1\" >$1.02</td>\n",
       "                        <td id=\"T_d58b8e8c_f845_11e9_b884_b831b596e6a5row4_col2\" class=\"data row4 col2\" >$8.16</td>\n",
       "            </tr>\n",
       "    </tbody></table>"
      ],
      "text/plain": [
       "<pandas.io.formats.style.Styler at 0x1d2a84682e8>"
      ]
     },
     "execution_count": 9,
     "metadata": {},
     "output_type": "execute_result"
    }
   ],
   "source": [
    "item_data = purchase_data[[\"Item ID\", \"Item Name\", \"Price\"]]\n",
    "\n",
    "item_groups = item_data.groupby([\"Item ID\",\"Item Name\"])\n",
    "\n",
    "item_count = item_groups[\"Item ID\"].count()\n",
    "item_price_sum = item_groups[\"Price\"].sum()\n",
    "item_price = item_price_sum/item_count\n",
    " \n",
    "\n",
    "items_df = pd.DataFrame({\"Purchase Count\" : item_count,\"Price\":item_price,  \n",
    "                       \"Total Purchase Value\" : item_price_sum})\n",
    "items_sort = items_df.sort_values(\"Purchase Count\", ascending=False)\n",
    "\n",
    "\n",
    "\n",
    "items_sort.head(5).style.format({\"Price\":\"${:,.2f}\",\n",
    "                        \"Total Purchase Value\": '${:,.2f}'})"
   ]
  },
  {
   "cell_type": "markdown",
   "metadata": {},
   "source": [
    "## Most Profitable Items"
   ]
  },
  {
   "cell_type": "markdown",
   "metadata": {},
   "source": [
    "* Sort the above table by total purchase value in descending order\n",
    "\n",
    "\n",
    "* Optional: give the displayed data cleaner formatting\n",
    "\n",
    "\n",
    "* Display a preview of the data frame\n",
    "\n"
   ]
  },
  {
   "cell_type": "code",
   "execution_count": 10,
   "metadata": {
    "scrolled": true
   },
   "outputs": [
    {
     "data": {
      "text/html": [
       "<style  type=\"text/css\" >\n",
       "</style><table id=\"T_d8b855d2_f845_11e9_adf9_b831b596e6a5\" ><thead>    <tr>        <th class=\"blank\" ></th>        <th class=\"blank level0\" ></th>        <th class=\"col_heading level0 col0\" >Purchase Count</th>        <th class=\"col_heading level0 col1\" >Price</th>        <th class=\"col_heading level0 col2\" >Total Purchase Value</th>    </tr>    <tr>        <th class=\"index_name level0\" >Item ID</th>        <th class=\"index_name level1\" >Item Name</th>        <th class=\"blank\" ></th>        <th class=\"blank\" ></th>        <th class=\"blank\" ></th>    </tr></thead><tbody>\n",
       "                <tr>\n",
       "                        <th id=\"T_d8b855d2_f845_11e9_adf9_b831b596e6a5level0_row0\" class=\"row_heading level0 row0\" >178</th>\n",
       "                        <th id=\"T_d8b855d2_f845_11e9_adf9_b831b596e6a5level1_row0\" class=\"row_heading level1 row0\" >Oathbreaker, Last Hope of the Breaking Storm</th>\n",
       "                        <td id=\"T_d8b855d2_f845_11e9_adf9_b831b596e6a5row0_col0\" class=\"data row0 col0\" >12</td>\n",
       "                        <td id=\"T_d8b855d2_f845_11e9_adf9_b831b596e6a5row0_col1\" class=\"data row0 col1\" >$4.23</td>\n",
       "                        <td id=\"T_d8b855d2_f845_11e9_adf9_b831b596e6a5row0_col2\" class=\"data row0 col2\" >$50.76</td>\n",
       "            </tr>\n",
       "            <tr>\n",
       "                        <th id=\"T_d8b855d2_f845_11e9_adf9_b831b596e6a5level0_row1\" class=\"row_heading level0 row1\" >82</th>\n",
       "                        <th id=\"T_d8b855d2_f845_11e9_adf9_b831b596e6a5level1_row1\" class=\"row_heading level1 row1\" >Nirvana</th>\n",
       "                        <td id=\"T_d8b855d2_f845_11e9_adf9_b831b596e6a5row1_col0\" class=\"data row1 col0\" >9</td>\n",
       "                        <td id=\"T_d8b855d2_f845_11e9_adf9_b831b596e6a5row1_col1\" class=\"data row1 col1\" >$4.90</td>\n",
       "                        <td id=\"T_d8b855d2_f845_11e9_adf9_b831b596e6a5row1_col2\" class=\"data row1 col2\" >$44.10</td>\n",
       "            </tr>\n",
       "            <tr>\n",
       "                        <th id=\"T_d8b855d2_f845_11e9_adf9_b831b596e6a5level0_row2\" class=\"row_heading level0 row2\" >145</th>\n",
       "                        <th id=\"T_d8b855d2_f845_11e9_adf9_b831b596e6a5level1_row2\" class=\"row_heading level1 row2\" >Fiery Glass Crusader</th>\n",
       "                        <td id=\"T_d8b855d2_f845_11e9_adf9_b831b596e6a5row2_col0\" class=\"data row2 col0\" >9</td>\n",
       "                        <td id=\"T_d8b855d2_f845_11e9_adf9_b831b596e6a5row2_col1\" class=\"data row2 col1\" >$4.58</td>\n",
       "                        <td id=\"T_d8b855d2_f845_11e9_adf9_b831b596e6a5row2_col2\" class=\"data row2 col2\" >$41.22</td>\n",
       "            </tr>\n",
       "            <tr>\n",
       "                        <th id=\"T_d8b855d2_f845_11e9_adf9_b831b596e6a5level0_row3\" class=\"row_heading level0 row3\" >92</th>\n",
       "                        <th id=\"T_d8b855d2_f845_11e9_adf9_b831b596e6a5level1_row3\" class=\"row_heading level1 row3\" >Final Critic</th>\n",
       "                        <td id=\"T_d8b855d2_f845_11e9_adf9_b831b596e6a5row3_col0\" class=\"data row3 col0\" >8</td>\n",
       "                        <td id=\"T_d8b855d2_f845_11e9_adf9_b831b596e6a5row3_col1\" class=\"data row3 col1\" >$4.88</td>\n",
       "                        <td id=\"T_d8b855d2_f845_11e9_adf9_b831b596e6a5row3_col2\" class=\"data row3 col2\" >$39.04</td>\n",
       "            </tr>\n",
       "            <tr>\n",
       "                        <th id=\"T_d8b855d2_f845_11e9_adf9_b831b596e6a5level0_row4\" class=\"row_heading level0 row4\" >103</th>\n",
       "                        <th id=\"T_d8b855d2_f845_11e9_adf9_b831b596e6a5level1_row4\" class=\"row_heading level1 row4\" >Singed Scalpel</th>\n",
       "                        <td id=\"T_d8b855d2_f845_11e9_adf9_b831b596e6a5row4_col0\" class=\"data row4 col0\" >8</td>\n",
       "                        <td id=\"T_d8b855d2_f845_11e9_adf9_b831b596e6a5row4_col1\" class=\"data row4 col1\" >$4.35</td>\n",
       "                        <td id=\"T_d8b855d2_f845_11e9_adf9_b831b596e6a5row4_col2\" class=\"data row4 col2\" >$34.80</td>\n",
       "            </tr>\n",
       "    </tbody></table>"
      ],
      "text/plain": [
       "<pandas.io.formats.style.Styler at 0x1d2a8458518>"
      ]
     },
     "execution_count": 10,
     "metadata": {},
     "output_type": "execute_result"
    }
   ],
   "source": [
    "items_psort = items_df.sort_values(\"Total Purchase Value\", ascending=False)\n",
    "\n",
    "items_psort.head(5).style.format({\"Price\":\"${:,.2f}\",\n",
    "                        \"Total Purchase Value\": '${:,.2f}'})\n"
   ]
  }
 ],
 "metadata": {
  "anaconda-cloud": {},
  "kernel_info": {
   "name": "python3"
  },
  "kernelspec": {
   "display_name": "Python 3",
   "language": "python",
   "name": "python3"
  },
  "language_info": {
   "codemirror_mode": {
    "name": "ipython",
    "version": 3
   },
   "file_extension": ".py",
   "mimetype": "text/x-python",
   "name": "python",
   "nbconvert_exporter": "python",
   "pygments_lexer": "ipython3",
   "version": "3.7.3"
  },
  "latex_envs": {
   "LaTeX_envs_menu_present": true,
   "autoclose": false,
   "autocomplete": true,
   "bibliofile": "biblio.bib",
   "cite_by": "apalike",
   "current_citInitial": 1,
   "eqLabelWithNumbers": true,
   "eqNumInitial": 1,
   "hotkeys": {
    "equation": "Ctrl-E",
    "itemize": "Ctrl-I"
   },
   "labels_anchors": false,
   "latex_user_defs": false,
   "report_style_numbering": false,
   "user_envs_cfg": false
  },
  "nteract": {
   "version": "0.2.0"
  }
 },
 "nbformat": 4,
 "nbformat_minor": 2
}
